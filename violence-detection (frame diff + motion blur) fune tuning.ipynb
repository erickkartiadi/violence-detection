{
  "cells": [
    {
      "cell_type": "code",
      "execution_count": 9,
      "metadata": {},
      "outputs": [],
      "source": [
        "!pip install keras-tuner"
      ]
    },
    {
      "cell_type": "code",
      "execution_count": 18,
      "metadata": {
        "execution": {
          "iopub.execute_input": "2024-10-15T05:19:56.205542Z",
          "iopub.status.busy": "2024-10-15T05:19:56.205153Z",
          "iopub.status.idle": "2024-10-15T05:20:11.606112Z",
          "shell.execute_reply": "2024-10-15T05:20:11.605220Z",
          "shell.execute_reply.started": "2024-10-15T05:19:56.205503Z"
        },
        "id": "MJ57uibyFzA1",
        "trusted": true
      },
      "outputs": [],
      "source": [
        "import os\n",
        "import cv2\n",
        "import matplotlib.pyplot as plt\n",
        "import numpy as np\n",
        "\n",
        "from tensorflow import keras\n",
        "import tensorflow as tf\n",
        "from tensorflow.keras import layers\n",
        "import gc\n",
        "from keras_tuner import BayesianOptimization\n",
        "from tensorflow.keras.optimizers import Adam, RMSprop, AdamW\n",
        "from keras_tuner.engine.hyperparameters import HyperParameters"
      ]
    },
    {
      "cell_type": "markdown",
      "metadata": {
        "id": "SizleZL9FzA4"
      },
      "source": [
        "# Utils"
      ]
    },
    {
      "cell_type": "code",
      "execution_count": 11,
      "metadata": {
        "execution": {
          "iopub.execute_input": "2024-10-15T05:20:11.608922Z",
          "iopub.status.busy": "2024-10-15T05:20:11.608210Z",
          "iopub.status.idle": "2024-10-15T05:20:11.618397Z",
          "shell.execute_reply": "2024-10-15T05:20:11.617244Z",
          "shell.execute_reply.started": "2024-10-15T05:20:11.608872Z"
        },
        "id": "3hd4XnbBFzA6",
        "trusted": true
      },
      "outputs": [],
      "source": [
        "# plot training history function\n",
        "def plot_training_history(history):\n",
        "    plt.figure(figsize=(10, 5))\n",
        "    plt.subplot(1, 2, 1)\n",
        "    plt.plot(history.history['accuracy'], label='accuracy')\n",
        "    plt.plot(history.history['val_accuracy'], label = 'val_accuracy')\n",
        "    plt.xlabel('Epoch')\n",
        "    plt.ylabel('Accuracy')\n",
        "    plt.ylim([0, 1])\n",
        "    plt.legend(loc='lower right')\n",
        "    plt.title('Training and Validation Accuracy')\n",
        "\n",
        "    plt.subplot(1, 2, 2)\n",
        "    plt.plot(history.history['loss'], label='loss')\n",
        "    plt.plot(history.history['val_loss'], label = 'val_loss')\n",
        "    plt.xlabel('Epoch')\n",
        "    plt.ylabel('Loss')\n",
        "    plt.ylim([0, 3])\n",
        "    plt.legend(loc='upper right')\n",
        "    plt.title('Training and Validation Loss')\n",
        "    plt.show()"
      ]
    },
    {
      "cell_type": "code",
      "execution_count": 12,
      "metadata": {
        "colab": {
          "base_uri": "https://localhost:8080/"
        },
        "execution": {
          "iopub.execute_input": "2024-10-15T05:20:11.620408Z",
          "iopub.status.busy": "2024-10-15T05:20:11.620034Z",
          "iopub.status.idle": "2024-10-15T05:20:11.631028Z",
          "shell.execute_reply": "2024-10-15T05:20:11.630080Z",
          "shell.execute_reply.started": "2024-10-15T05:20:11.620346Z"
        },
        "id": "ES9AA3SkFzA7",
        "outputId": "d9e3bc01-5e08-4dae-e3b5-976aba0e601d",
        "trusted": true
      },
      "outputs": [],
      "source": [
        "from google.colab import drive\n",
        "drive.mount('/content/drive')\n",
        "\n",
        "!unzip /content/drive/MyDrive/Thesis/RWF-2000.zip -d /content\n",
        "\n",
        "DIR_PATH = \"./RWF-2000\"\n",
        "TRAIN_DIR = os.path.join(DIR_PATH, \"train\")\n",
        "TEST_DIR = os.path.join(DIR_PATH, \"val\")"
      ]
    },
    {
      "cell_type": "code",
      "execution_count": 13,
      "metadata": {
        "execution": {
          "iopub.execute_input": "2024-10-15T05:20:11.633742Z",
          "iopub.status.busy": "2024-10-15T05:20:11.633410Z",
          "iopub.status.idle": "2024-10-15T05:20:11.648894Z",
          "shell.execute_reply": "2024-10-15T05:20:11.647873Z",
          "shell.execute_reply.started": "2024-10-15T05:20:11.633706Z"
        },
        "id": "VxgTsnPtFzA7",
        "trusted": true
      },
      "outputs": [],
      "source": [
        "CLASS_NAMES = os.listdir(TRAIN_DIR)\n",
        "SEED = 1337\n",
        "BATCH_SIZE = 10\n",
        "\n",
        "ORIGINAL_FRAMES_PER_VIDEO = 150\n",
        "FRAMES_PER_VIDEO = 50 + 1\n",
        "VIDEO_WIDTH, VIDEO_HEIGHT = 100, 100\n",
        "N_CHANNELS = 3"
      ]
    },
    {
      "cell_type": "markdown",
      "metadata": {
        "id": "0DRDMhE7FzA8"
      },
      "source": [
        "## Load Data"
      ]
    },
    {
      "cell_type": "code",
      "execution_count": 14,
      "metadata": {
        "execution": {
          "iopub.execute_input": "2024-10-15T05:20:11.651172Z",
          "iopub.status.busy": "2024-10-15T05:20:11.650503Z",
          "iopub.status.idle": "2024-10-15T05:20:11.657485Z",
          "shell.execute_reply": "2024-10-15T05:20:11.656553Z",
          "shell.execute_reply.started": "2024-10-15T05:20:11.651125Z"
        },
        "id": "zhXpQWnsFzA8",
        "trusted": true
      },
      "outputs": [],
      "source": [
        "# get list of labels and video path\n",
        "def get_labels_and_video_paths(data_dir):\n",
        "    labels = []\n",
        "    video_paths = []\n",
        "    for label in CLASS_NAMES:\n",
        "        label_dir = os.path.join(data_dir, label)\n",
        "        for video in os.listdir(label_dir):\n",
        "            video_paths.append(os.path.join(label_dir, video))\n",
        "            labels.append(label)\n",
        "    return labels, video_paths"
      ]
    },
    {
      "cell_type": "code",
      "execution_count": 19,
      "metadata": {
        "execution": {
          "iopub.execute_input": "2024-10-15T05:20:11.659421Z",
          "iopub.status.busy": "2024-10-15T05:20:11.659014Z",
          "iopub.status.idle": "2024-10-15T05:20:11.676445Z",
          "shell.execute_reply": "2024-10-15T05:20:11.675433Z",
          "shell.execute_reply.started": "2024-10-15T05:20:11.659347Z"
        },
        "id": "2-SrBeJ8FzA9",
        "trusted": true
      },
      "outputs": [],
      "source": [
        "import gc\n",
        "\n",
        "def load_videos(video_IDs: list, video_labels: dict, video_frames: int = FRAMES_PER_VIDEO, video_width: int = VIDEO_WIDTH, video_height: int = VIDEO_HEIGHT,\n",
        "                video_channels: int = N_CHANNELS, dtype = np.float32, normalize: bool = False) -> tuple:\n",
        "    videos = np.empty((len(video_IDs), video_frames, video_height, video_width, video_channels), dtype=dtype)\n",
        "    labels = np.empty((len(video_IDs),), dtype=np.int8)\n",
        "\n",
        "    # Indexes of frames to be kept to comply with video_frames\n",
        "    frames_idx = set(np.round(np.linspace(0, ORIGINAL_FRAMES_PER_VIDEO - 1, video_frames)).astype(int))\n",
        "\n",
        "    for i, video_ID in enumerate(video_IDs):\n",
        "        cap = cv2.VideoCapture(video_ID)\n",
        "        frames = []\n",
        "        index = 0\n",
        "        while True:\n",
        "            ret, frame = cap.read()\n",
        "            if not ret:\n",
        "                break\n",
        "            if index in frames_idx:\n",
        "                frame = cv2.resize(frame, (video_width, video_height)).astype(dtype)\n",
        "                if normalize:\n",
        "                    frame /= 255.0\n",
        "                frames.append(frame)\n",
        "            index += 1\n",
        "        cap.release()\n",
        "\n",
        "        videos[i,] = np.array(frames)\n",
        "        labels[i] = video_labels[video_ID]\n",
        "\n",
        "    return videos, labels\n",
        "\n",
        "class DataGenerator(tf.keras.utils.Sequence):\n",
        "    def __init__(self, video_IDs: list, video_labels: dict, batch_size: int, video_width: int = VIDEO_WIDTH, video_height: int = VIDEO_HEIGHT,\n",
        "                video_frames: int = FRAMES_PER_VIDEO, video_channels: int = N_CHANNELS, dtype = np.float32, normalize: bool = False, shuffle: bool = True):\n",
        "        self.video_IDs = video_IDs\n",
        "        self.video_labels = video_labels\n",
        "        self.batch_size = batch_size\n",
        "        self.video_width = video_width\n",
        "        self.video_height = video_height\n",
        "        self.video_frames = video_frames\n",
        "        self.video_channels = video_channels\n",
        "        self.dtype = dtype\n",
        "        self.normalize = normalize\n",
        "        self.shuffle = shuffle\n",
        "\n",
        "    def __len__(self):\n",
        "        return len(self.video_IDs) // self.batch_size\n",
        "\n",
        "    def __getitem__(self, idx):\n",
        "        bacth_IDs = self.video_IDs[idx*self.batch_size:(idx+1)*self.batch_size]\n",
        "\n",
        "        return load_videos(bacth_IDs, self.video_labels, self.video_frames, self.video_width, self.video_height, self.video_channels, self.dtype, self.normalize)\n",
        "\n",
        "    def on_epoch_end(self):\n",
        "        'Updates indexes after each epoch'\n",
        "        if self.shuffle:\n",
        "            np.random.shuffle(self.video_IDs)\n",
        "        # Clear memory after epochs\n",
        "        gc.collect()\n",
        "        #K.clear_session()"
      ]
    },
    {
      "cell_type": "code",
      "execution_count": 16,
      "metadata": {
        "execution": {
          "iopub.execute_input": "2024-10-15T05:20:11.678405Z",
          "iopub.status.busy": "2024-10-15T05:20:11.677703Z",
          "iopub.status.idle": "2024-10-15T05:20:12.222829Z",
          "shell.execute_reply": "2024-10-15T05:20:12.221867Z",
          "shell.execute_reply.started": "2024-10-15T05:20:11.678338Z"
        },
        "id": "SAbx0RDwFzA-",
        "trusted": true
      },
      "outputs": [],
      "source": [
        "import glob\n",
        "\n",
        "train_video_IDs = glob.glob(f\"{DIR_PATH}/train/*/*\")\n",
        "train_video_labels = {video: 0 if 'NonFight' in video else 1 for video in train_video_IDs}\n",
        "test_video_IDs = glob.glob(f\"{DIR_PATH}/val/*/*\")\n",
        "test_video_labels = {video: 0 if 'NonFight' in video else 1 for video in test_video_IDs}\n",
        "\n",
        "train_generator = DataGenerator(train_video_IDs, train_video_labels, batch_size=BATCH_SIZE)\n",
        "test_generator = DataGenerator(test_video_IDs, test_video_labels, batch_size=BATCH_SIZE)"
      ]
    },
    {
      "cell_type": "markdown",
      "metadata": {
        "id": "_Nv3anT-FzA-"
      },
      "source": [
        "# Training Model"
      ]
    },
    {
      "cell_type": "code",
      "execution_count": 20,
      "metadata": {
        "execution": {
          "iopub.execute_input": "2024-10-15T05:20:12.224496Z",
          "iopub.status.busy": "2024-10-15T05:20:12.224126Z",
          "iopub.status.idle": "2024-10-15T05:20:12.229486Z",
          "shell.execute_reply": "2024-10-15T05:20:12.228291Z",
          "shell.execute_reply.started": "2024-10-15T05:20:12.224457Z"
        },
        "id": "aUd8E8wkFzA_",
        "trusted": true
      },
      "outputs": [],
      "source": [
        "@keras.utils.register_keras_serializable(package=\"FrameDifference\")\n",
        "class FrameDifference(layers.Layer):\n",
        "    def __init__(self, **kwargs):\n",
        "        super(FrameDifference, self).__init__(**kwargs)\n",
        "\n",
        "    def call(self, video):\n",
        "        return video[:, 1:] - video[:, :-1]\n",
        "\n",
        "    def compute_output_shape(self, input_shape):\n",
        "        return (input_shape[0], input_shape[1] - 1) + input_shape[2:]"
      ]
    },
    {
      "cell_type": "code",
      "execution_count": 21,
      "metadata": {
        "execution": {
          "iopub.execute_input": "2024-10-15T05:20:12.231600Z",
          "iopub.status.busy": "2024-10-15T05:20:12.231140Z",
          "iopub.status.idle": "2024-10-15T05:20:12.240785Z",
          "shell.execute_reply": "2024-10-15T05:20:12.239774Z",
          "shell.execute_reply.started": "2024-10-15T05:20:12.231560Z"
        },
        "id": "Bgf0PzuhFzBA",
        "trusted": true
      },
      "outputs": [],
      "source": [
        "@keras.utils.register_keras_serializable(package=\"MotionBlur\")\n",
        "class MotionBlur(layers.Layer):\n",
        "    def __init__(self, kernel_size=3, **kwargs):\n",
        "        super(MotionBlur, self).__init__(**kwargs)\n",
        "        self.kernel_size = kernel_size\n",
        "\n",
        "    def build(self, input_shape):\n",
        "        self.kernel = tf.constant([[1.0 / self.kernel_size] * self.kernel_size], dtype=tf.float32)\n",
        "        self.kernel = tf.expand_dims(self.kernel, axis=-1)\n",
        "        self.kernel = tf.expand_dims(self.kernel, axis=-1)\n",
        "        self.kernel = tf.tile(self.kernel, [1, 1, input_shape[-1], 1])\n",
        "\n",
        "    def call(self, inputs):\n",
        "        return tf.nn.depthwise_conv2d(inputs, self.kernel, strides=[1, 1, 1, 1], padding='SAME')\n",
        "\n",
        "    def compute_output_shape(self, input_shape):\n",
        "        return input_shape"
      ]
    },
    {
      "cell_type": "code",
      "execution_count": 30,
      "metadata": {
        "colab": {
          "base_uri": "https://localhost:8080/",
          "height": 815
        },
        "execution": {
          "iopub.execute_input": "2024-10-15T05:20:12.243944Z",
          "iopub.status.busy": "2024-10-15T05:20:12.243626Z",
          "iopub.status.idle": "2024-10-15T05:20:13.822158Z",
          "shell.execute_reply": "2024-10-15T05:20:13.821228Z",
          "shell.execute_reply.started": "2024-10-15T05:20:12.243909Z"
        },
        "id": "kDAJyWubFzBA",
        "outputId": "e09b956b-1d80-41cc-d8a0-f0183d69b5ed",
        "trusted": true
      },
      "outputs": [
        {
          "data": {
            "text/html": [
              "<pre style=\"white-space:pre;overflow-x:auto;line-height:normal;font-family:Menlo,'DejaVu Sans Mono',consolas,'Courier New',monospace\"><span style=\"font-weight: bold\">Model: \"functional_15\"</span>\n",
              "</pre>\n"
            ],
            "text/plain": [
              "\u001b[1mModel: \"functional_15\"\u001b[0m\n"
            ]
          },
          "metadata": {},
          "output_type": "display_data"
        },
        {
          "data": {
            "text/html": [
              "<pre style=\"white-space:pre;overflow-x:auto;line-height:normal;font-family:Menlo,'DejaVu Sans Mono',consolas,'Courier New',monospace\">┏━━━━━━━━━━━━━━━━━━━━━━━━━━━━━━━━━┳━━━━━━━━━━━━━━━━━━━━━━━━┳━━━━━━━━━━━━━━━┓\n",
              "┃<span style=\"font-weight: bold\"> Layer (type)                    </span>┃<span style=\"font-weight: bold\"> Output Shape           </span>┃<span style=\"font-weight: bold\">       Param # </span>┃\n",
              "┡━━━━━━━━━━━━━━━━━━━━━━━━━━━━━━━━━╇━━━━━━━━━━━━━━━━━━━━━━━━╇━━━━━━━━━━━━━━━┩\n",
              "│ input_layer_8 (<span style=\"color: #0087ff; text-decoration-color: #0087ff\">InputLayer</span>)      │ (<span style=\"color: #00d7ff; text-decoration-color: #00d7ff\">None</span>, <span style=\"color: #00af00; text-decoration-color: #00af00\">51</span>, <span style=\"color: #00af00; text-decoration-color: #00af00\">100</span>, <span style=\"color: #00af00; text-decoration-color: #00af00\">100</span>,   │             <span style=\"color: #00af00; text-decoration-color: #00af00\">0</span> │\n",
              "│                                 │ <span style=\"color: #00af00; text-decoration-color: #00af00\">3</span>)                     │               │\n",
              "├─────────────────────────────────┼────────────────────────┼───────────────┤\n",
              "│ gaussian_noise_8                │ (<span style=\"color: #00d7ff; text-decoration-color: #00d7ff\">None</span>, <span style=\"color: #00af00; text-decoration-color: #00af00\">51</span>, <span style=\"color: #00af00; text-decoration-color: #00af00\">100</span>, <span style=\"color: #00af00; text-decoration-color: #00af00\">100</span>,   │             <span style=\"color: #00af00; text-decoration-color: #00af00\">0</span> │\n",
              "│ (<span style=\"color: #0087ff; text-decoration-color: #0087ff\">GaussianNoise</span>)                 │ <span style=\"color: #00af00; text-decoration-color: #00af00\">3</span>)                     │               │\n",
              "├─────────────────────────────────┼────────────────────────┼───────────────┤\n",
              "│ time_distributed_22             │ (<span style=\"color: #00d7ff; text-decoration-color: #00d7ff\">None</span>, <span style=\"color: #00af00; text-decoration-color: #00af00\">51</span>, <span style=\"color: #00af00; text-decoration-color: #00af00\">100</span>, <span style=\"color: #00af00; text-decoration-color: #00af00\">100</span>,   │             <span style=\"color: #00af00; text-decoration-color: #00af00\">0</span> │\n",
              "│ (<span style=\"color: #0087ff; text-decoration-color: #0087ff\">TimeDistributed</span>)               │ <span style=\"color: #00af00; text-decoration-color: #00af00\">3</span>)                     │               │\n",
              "├─────────────────────────────────┼────────────────────────┼───────────────┤\n",
              "│ frame_difference_8              │ (<span style=\"color: #00d7ff; text-decoration-color: #00d7ff\">None</span>, <span style=\"color: #00af00; text-decoration-color: #00af00\">50</span>, <span style=\"color: #00af00; text-decoration-color: #00af00\">100</span>, <span style=\"color: #00af00; text-decoration-color: #00af00\">100</span>,   │             <span style=\"color: #00af00; text-decoration-color: #00af00\">0</span> │\n",
              "│ (<span style=\"color: #0087ff; text-decoration-color: #0087ff\">FrameDifference</span>)               │ <span style=\"color: #00af00; text-decoration-color: #00af00\">3</span>)                     │               │\n",
              "├─────────────────────────────────┼────────────────────────┼───────────────┤\n",
              "│ conv_lstm2d_21 (<span style=\"color: #0087ff; text-decoration-color: #0087ff\">ConvLSTM2D</span>)     │ (<span style=\"color: #00d7ff; text-decoration-color: #00d7ff\">None</span>, <span style=\"color: #00af00; text-decoration-color: #00af00\">50</span>, <span style=\"color: #00af00; text-decoration-color: #00af00\">100</span>, <span style=\"color: #00af00; text-decoration-color: #00af00\">100</span>,   │         <span style=\"color: #00af00; text-decoration-color: #00af00\">1,024</span> │\n",
              "│                                 │ <span style=\"color: #00af00; text-decoration-color: #00af00\">4</span>)                     │               │\n",
              "├─────────────────────────────────┼────────────────────────┼───────────────┤\n",
              "│ batch_normalization_21          │ (<span style=\"color: #00d7ff; text-decoration-color: #00d7ff\">None</span>, <span style=\"color: #00af00; text-decoration-color: #00af00\">50</span>, <span style=\"color: #00af00; text-decoration-color: #00af00\">100</span>, <span style=\"color: #00af00; text-decoration-color: #00af00\">100</span>,   │            <span style=\"color: #00af00; text-decoration-color: #00af00\">16</span> │\n",
              "│ (<span style=\"color: #0087ff; text-decoration-color: #0087ff\">BatchNormalization</span>)            │ <span style=\"color: #00af00; text-decoration-color: #00af00\">4</span>)                     │               │\n",
              "├─────────────────────────────────┼────────────────────────┼───────────────┤\n",
              "│ max_pooling3d_14 (<span style=\"color: #0087ff; text-decoration-color: #0087ff\">MaxPooling3D</span>) │ (<span style=\"color: #00d7ff; text-decoration-color: #00d7ff\">None</span>, <span style=\"color: #00af00; text-decoration-color: #00af00\">50</span>, <span style=\"color: #00af00; text-decoration-color: #00af00\">50</span>, <span style=\"color: #00af00; text-decoration-color: #00af00\">50</span>, <span style=\"color: #00af00; text-decoration-color: #00af00\">4</span>)  │             <span style=\"color: #00af00; text-decoration-color: #00af00\">0</span> │\n",
              "├─────────────────────────────────┼────────────────────────┼───────────────┤\n",
              "│ time_distributed_23             │ (<span style=\"color: #00d7ff; text-decoration-color: #00d7ff\">None</span>, <span style=\"color: #00af00; text-decoration-color: #00af00\">50</span>, <span style=\"color: #00af00; text-decoration-color: #00af00\">50</span>, <span style=\"color: #00af00; text-decoration-color: #00af00\">50</span>, <span style=\"color: #00af00; text-decoration-color: #00af00\">4</span>)  │             <span style=\"color: #00af00; text-decoration-color: #00af00\">0</span> │\n",
              "│ (<span style=\"color: #0087ff; text-decoration-color: #0087ff\">TimeDistributed</span>)               │                        │               │\n",
              "├─────────────────────────────────┼────────────────────────┼───────────────┤\n",
              "│ conv_lstm2d_22 (<span style=\"color: #0087ff; text-decoration-color: #0087ff\">ConvLSTM2D</span>)     │ (<span style=\"color: #00d7ff; text-decoration-color: #00d7ff\">None</span>, <span style=\"color: #00af00; text-decoration-color: #00af00\">50</span>, <span style=\"color: #00af00; text-decoration-color: #00af00\">50</span>, <span style=\"color: #00af00; text-decoration-color: #00af00\">50</span>, <span style=\"color: #00af00; text-decoration-color: #00af00\">8</span>)  │         <span style=\"color: #00af00; text-decoration-color: #00af00\">3,488</span> │\n",
              "├─────────────────────────────────┼────────────────────────┼───────────────┤\n",
              "│ batch_normalization_22          │ (<span style=\"color: #00d7ff; text-decoration-color: #00d7ff\">None</span>, <span style=\"color: #00af00; text-decoration-color: #00af00\">50</span>, <span style=\"color: #00af00; text-decoration-color: #00af00\">50</span>, <span style=\"color: #00af00; text-decoration-color: #00af00\">50</span>, <span style=\"color: #00af00; text-decoration-color: #00af00\">8</span>)  │            <span style=\"color: #00af00; text-decoration-color: #00af00\">32</span> │\n",
              "│ (<span style=\"color: #0087ff; text-decoration-color: #0087ff\">BatchNormalization</span>)            │                        │               │\n",
              "├─────────────────────────────────┼────────────────────────┼───────────────┤\n",
              "│ max_pooling3d_15 (<span style=\"color: #0087ff; text-decoration-color: #0087ff\">MaxPooling3D</span>) │ (<span style=\"color: #00d7ff; text-decoration-color: #00d7ff\">None</span>, <span style=\"color: #00af00; text-decoration-color: #00af00\">50</span>, <span style=\"color: #00af00; text-decoration-color: #00af00\">25</span>, <span style=\"color: #00af00; text-decoration-color: #00af00\">25</span>, <span style=\"color: #00af00; text-decoration-color: #00af00\">8</span>)  │             <span style=\"color: #00af00; text-decoration-color: #00af00\">0</span> │\n",
              "├─────────────────────────────────┼────────────────────────┼───────────────┤\n",
              "│ time_distributed_24             │ (<span style=\"color: #00d7ff; text-decoration-color: #00d7ff\">None</span>, <span style=\"color: #00af00; text-decoration-color: #00af00\">50</span>, <span style=\"color: #00af00; text-decoration-color: #00af00\">25</span>, <span style=\"color: #00af00; text-decoration-color: #00af00\">25</span>, <span style=\"color: #00af00; text-decoration-color: #00af00\">8</span>)  │             <span style=\"color: #00af00; text-decoration-color: #00af00\">0</span> │\n",
              "│ (<span style=\"color: #0087ff; text-decoration-color: #0087ff\">TimeDistributed</span>)               │                        │               │\n",
              "├─────────────────────────────────┼────────────────────────┼───────────────┤\n",
              "│ conv_lstm2d_23 (<span style=\"color: #0087ff; text-decoration-color: #0087ff\">ConvLSTM2D</span>)     │ (<span style=\"color: #00d7ff; text-decoration-color: #00d7ff\">None</span>, <span style=\"color: #00af00; text-decoration-color: #00af00\">25</span>, <span style=\"color: #00af00; text-decoration-color: #00af00\">25</span>, <span style=\"color: #00af00; text-decoration-color: #00af00\">16</span>)     │        <span style=\"color: #00af00; text-decoration-color: #00af00\">13,888</span> │\n",
              "├─────────────────────────────────┼────────────────────────┼───────────────┤\n",
              "│ batch_normalization_23          │ (<span style=\"color: #00d7ff; text-decoration-color: #00d7ff\">None</span>, <span style=\"color: #00af00; text-decoration-color: #00af00\">25</span>, <span style=\"color: #00af00; text-decoration-color: #00af00\">25</span>, <span style=\"color: #00af00; text-decoration-color: #00af00\">16</span>)     │            <span style=\"color: #00af00; text-decoration-color: #00af00\">64</span> │\n",
              "│ (<span style=\"color: #0087ff; text-decoration-color: #0087ff\">BatchNormalization</span>)            │                        │               │\n",
              "├─────────────────────────────────┼────────────────────────┼───────────────┤\n",
              "│ depthwise_conv2d_7              │ (<span style=\"color: #00d7ff; text-decoration-color: #00d7ff\">None</span>, <span style=\"color: #00af00; text-decoration-color: #00af00\">23</span>, <span style=\"color: #00af00; text-decoration-color: #00af00\">23</span>, <span style=\"color: #00af00; text-decoration-color: #00af00\">32</span>)     │           <span style=\"color: #00af00; text-decoration-color: #00af00\">320</span> │\n",
              "│ (<span style=\"color: #0087ff; text-decoration-color: #0087ff\">DepthwiseConv2D</span>)               │                        │               │\n",
              "├─────────────────────────────────┼────────────────────────┼───────────────┤\n",
              "│ global_average_pooling2d_7      │ (<span style=\"color: #00d7ff; text-decoration-color: #00d7ff\">None</span>, <span style=\"color: #00af00; text-decoration-color: #00af00\">32</span>)             │             <span style=\"color: #00af00; text-decoration-color: #00af00\">0</span> │\n",
              "│ (<span style=\"color: #0087ff; text-decoration-color: #0087ff\">GlobalAveragePooling2D</span>)        │                        │               │\n",
              "├─────────────────────────────────┼────────────────────────┼───────────────┤\n",
              "│ dense_21 (<span style=\"color: #0087ff; text-decoration-color: #0087ff\">Dense</span>)                │ (<span style=\"color: #00d7ff; text-decoration-color: #00d7ff\">None</span>, <span style=\"color: #00af00; text-decoration-color: #00af00\">128</span>)            │         <span style=\"color: #00af00; text-decoration-color: #00af00\">4,224</span> │\n",
              "├─────────────────────────────────┼────────────────────────┼───────────────┤\n",
              "│ dense_22 (<span style=\"color: #0087ff; text-decoration-color: #0087ff\">Dense</span>)                │ (<span style=\"color: #00d7ff; text-decoration-color: #00d7ff\">None</span>, <span style=\"color: #00af00; text-decoration-color: #00af00\">16</span>)             │         <span style=\"color: #00af00; text-decoration-color: #00af00\">2,064</span> │\n",
              "├─────────────────────────────────┼────────────────────────┼───────────────┤\n",
              "│ dense_23 (<span style=\"color: #0087ff; text-decoration-color: #0087ff\">Dense</span>)                │ (<span style=\"color: #00d7ff; text-decoration-color: #00d7ff\">None</span>, <span style=\"color: #00af00; text-decoration-color: #00af00\">1</span>)              │            <span style=\"color: #00af00; text-decoration-color: #00af00\">17</span> │\n",
              "└─────────────────────────────────┴────────────────────────┴───────────────┘\n",
              "</pre>\n"
            ],
            "text/plain": [
              "┏━━━━━━━━━━━━━━━━━━━━━━━━━━━━━━━━━┳━━━━━━━━━━━━━━━━━━━━━━━━┳━━━━━━━━━━━━━━━┓\n",
              "┃\u001b[1m \u001b[0m\u001b[1mLayer (type)                   \u001b[0m\u001b[1m \u001b[0m┃\u001b[1m \u001b[0m\u001b[1mOutput Shape          \u001b[0m\u001b[1m \u001b[0m┃\u001b[1m \u001b[0m\u001b[1m      Param #\u001b[0m\u001b[1m \u001b[0m┃\n",
              "┡━━━━━━━━━━━━━━━━━━━━━━━━━━━━━━━━━╇━━━━━━━━━━━━━━━━━━━━━━━━╇━━━━━━━━━━━━━━━┩\n",
              "│ input_layer_8 (\u001b[38;5;33mInputLayer\u001b[0m)      │ (\u001b[38;5;45mNone\u001b[0m, \u001b[38;5;34m51\u001b[0m, \u001b[38;5;34m100\u001b[0m, \u001b[38;5;34m100\u001b[0m,   │             \u001b[38;5;34m0\u001b[0m │\n",
              "│                                 │ \u001b[38;5;34m3\u001b[0m)                     │               │\n",
              "├─────────────────────────────────┼────────────────────────┼───────────────┤\n",
              "│ gaussian_noise_8                │ (\u001b[38;5;45mNone\u001b[0m, \u001b[38;5;34m51\u001b[0m, \u001b[38;5;34m100\u001b[0m, \u001b[38;5;34m100\u001b[0m,   │             \u001b[38;5;34m0\u001b[0m │\n",
              "│ (\u001b[38;5;33mGaussianNoise\u001b[0m)                 │ \u001b[38;5;34m3\u001b[0m)                     │               │\n",
              "├─────────────────────────────────┼────────────────────────┼───────────────┤\n",
              "│ time_distributed_22             │ (\u001b[38;5;45mNone\u001b[0m, \u001b[38;5;34m51\u001b[0m, \u001b[38;5;34m100\u001b[0m, \u001b[38;5;34m100\u001b[0m,   │             \u001b[38;5;34m0\u001b[0m │\n",
              "│ (\u001b[38;5;33mTimeDistributed\u001b[0m)               │ \u001b[38;5;34m3\u001b[0m)                     │               │\n",
              "├─────────────────────────────────┼────────────────────────┼───────────────┤\n",
              "│ frame_difference_8              │ (\u001b[38;5;45mNone\u001b[0m, \u001b[38;5;34m50\u001b[0m, \u001b[38;5;34m100\u001b[0m, \u001b[38;5;34m100\u001b[0m,   │             \u001b[38;5;34m0\u001b[0m │\n",
              "│ (\u001b[38;5;33mFrameDifference\u001b[0m)               │ \u001b[38;5;34m3\u001b[0m)                     │               │\n",
              "├─────────────────────────────────┼────────────────────────┼───────────────┤\n",
              "│ conv_lstm2d_21 (\u001b[38;5;33mConvLSTM2D\u001b[0m)     │ (\u001b[38;5;45mNone\u001b[0m, \u001b[38;5;34m50\u001b[0m, \u001b[38;5;34m100\u001b[0m, \u001b[38;5;34m100\u001b[0m,   │         \u001b[38;5;34m1,024\u001b[0m │\n",
              "│                                 │ \u001b[38;5;34m4\u001b[0m)                     │               │\n",
              "├─────────────────────────────────┼────────────────────────┼───────────────┤\n",
              "│ batch_normalization_21          │ (\u001b[38;5;45mNone\u001b[0m, \u001b[38;5;34m50\u001b[0m, \u001b[38;5;34m100\u001b[0m, \u001b[38;5;34m100\u001b[0m,   │            \u001b[38;5;34m16\u001b[0m │\n",
              "│ (\u001b[38;5;33mBatchNormalization\u001b[0m)            │ \u001b[38;5;34m4\u001b[0m)                     │               │\n",
              "├─────────────────────────────────┼────────────────────────┼───────────────┤\n",
              "│ max_pooling3d_14 (\u001b[38;5;33mMaxPooling3D\u001b[0m) │ (\u001b[38;5;45mNone\u001b[0m, \u001b[38;5;34m50\u001b[0m, \u001b[38;5;34m50\u001b[0m, \u001b[38;5;34m50\u001b[0m, \u001b[38;5;34m4\u001b[0m)  │             \u001b[38;5;34m0\u001b[0m │\n",
              "├─────────────────────────────────┼────────────────────────┼───────────────┤\n",
              "│ time_distributed_23             │ (\u001b[38;5;45mNone\u001b[0m, \u001b[38;5;34m50\u001b[0m, \u001b[38;5;34m50\u001b[0m, \u001b[38;5;34m50\u001b[0m, \u001b[38;5;34m4\u001b[0m)  │             \u001b[38;5;34m0\u001b[0m │\n",
              "│ (\u001b[38;5;33mTimeDistributed\u001b[0m)               │                        │               │\n",
              "├─────────────────────────────────┼────────────────────────┼───────────────┤\n",
              "│ conv_lstm2d_22 (\u001b[38;5;33mConvLSTM2D\u001b[0m)     │ (\u001b[38;5;45mNone\u001b[0m, \u001b[38;5;34m50\u001b[0m, \u001b[38;5;34m50\u001b[0m, \u001b[38;5;34m50\u001b[0m, \u001b[38;5;34m8\u001b[0m)  │         \u001b[38;5;34m3,488\u001b[0m │\n",
              "├─────────────────────────────────┼────────────────────────┼───────────────┤\n",
              "│ batch_normalization_22          │ (\u001b[38;5;45mNone\u001b[0m, \u001b[38;5;34m50\u001b[0m, \u001b[38;5;34m50\u001b[0m, \u001b[38;5;34m50\u001b[0m, \u001b[38;5;34m8\u001b[0m)  │            \u001b[38;5;34m32\u001b[0m │\n",
              "│ (\u001b[38;5;33mBatchNormalization\u001b[0m)            │                        │               │\n",
              "├─────────────────────────────────┼────────────────────────┼───────────────┤\n",
              "│ max_pooling3d_15 (\u001b[38;5;33mMaxPooling3D\u001b[0m) │ (\u001b[38;5;45mNone\u001b[0m, \u001b[38;5;34m50\u001b[0m, \u001b[38;5;34m25\u001b[0m, \u001b[38;5;34m25\u001b[0m, \u001b[38;5;34m8\u001b[0m)  │             \u001b[38;5;34m0\u001b[0m │\n",
              "├─────────────────────────────────┼────────────────────────┼───────────────┤\n",
              "│ time_distributed_24             │ (\u001b[38;5;45mNone\u001b[0m, \u001b[38;5;34m50\u001b[0m, \u001b[38;5;34m25\u001b[0m, \u001b[38;5;34m25\u001b[0m, \u001b[38;5;34m8\u001b[0m)  │             \u001b[38;5;34m0\u001b[0m │\n",
              "│ (\u001b[38;5;33mTimeDistributed\u001b[0m)               │                        │               │\n",
              "├─────────────────────────────────┼────────────────────────┼───────────────┤\n",
              "│ conv_lstm2d_23 (\u001b[38;5;33mConvLSTM2D\u001b[0m)     │ (\u001b[38;5;45mNone\u001b[0m, \u001b[38;5;34m25\u001b[0m, \u001b[38;5;34m25\u001b[0m, \u001b[38;5;34m16\u001b[0m)     │        \u001b[38;5;34m13,888\u001b[0m │\n",
              "├─────────────────────────────────┼────────────────────────┼───────────────┤\n",
              "│ batch_normalization_23          │ (\u001b[38;5;45mNone\u001b[0m, \u001b[38;5;34m25\u001b[0m, \u001b[38;5;34m25\u001b[0m, \u001b[38;5;34m16\u001b[0m)     │            \u001b[38;5;34m64\u001b[0m │\n",
              "│ (\u001b[38;5;33mBatchNormalization\u001b[0m)            │                        │               │\n",
              "├─────────────────────────────────┼────────────────────────┼───────────────┤\n",
              "│ depthwise_conv2d_7              │ (\u001b[38;5;45mNone\u001b[0m, \u001b[38;5;34m23\u001b[0m, \u001b[38;5;34m23\u001b[0m, \u001b[38;5;34m32\u001b[0m)     │           \u001b[38;5;34m320\u001b[0m │\n",
              "│ (\u001b[38;5;33mDepthwiseConv2D\u001b[0m)               │                        │               │\n",
              "├─────────────────────────────────┼────────────────────────┼───────────────┤\n",
              "│ global_average_pooling2d_7      │ (\u001b[38;5;45mNone\u001b[0m, \u001b[38;5;34m32\u001b[0m)             │             \u001b[38;5;34m0\u001b[0m │\n",
              "│ (\u001b[38;5;33mGlobalAveragePooling2D\u001b[0m)        │                        │               │\n",
              "├─────────────────────────────────┼────────────────────────┼───────────────┤\n",
              "│ dense_21 (\u001b[38;5;33mDense\u001b[0m)                │ (\u001b[38;5;45mNone\u001b[0m, \u001b[38;5;34m128\u001b[0m)            │         \u001b[38;5;34m4,224\u001b[0m │\n",
              "├─────────────────────────────────┼────────────────────────┼───────────────┤\n",
              "│ dense_22 (\u001b[38;5;33mDense\u001b[0m)                │ (\u001b[38;5;45mNone\u001b[0m, \u001b[38;5;34m16\u001b[0m)             │         \u001b[38;5;34m2,064\u001b[0m │\n",
              "├─────────────────────────────────┼────────────────────────┼───────────────┤\n",
              "│ dense_23 (\u001b[38;5;33mDense\u001b[0m)                │ (\u001b[38;5;45mNone\u001b[0m, \u001b[38;5;34m1\u001b[0m)              │            \u001b[38;5;34m17\u001b[0m │\n",
              "└─────────────────────────────────┴────────────────────────┴───────────────┘\n"
            ]
          },
          "metadata": {},
          "output_type": "display_data"
        },
        {
          "data": {
            "text/html": [
              "<pre style=\"white-space:pre;overflow-x:auto;line-height:normal;font-family:Menlo,'DejaVu Sans Mono',consolas,'Courier New',monospace\"><span style=\"font-weight: bold\"> Total params: </span><span style=\"color: #00af00; text-decoration-color: #00af00\">25,137</span> (98.19 KB)\n",
              "</pre>\n"
            ],
            "text/plain": [
              "\u001b[1m Total params: \u001b[0m\u001b[38;5;34m25,137\u001b[0m (98.19 KB)\n"
            ]
          },
          "metadata": {},
          "output_type": "display_data"
        },
        {
          "data": {
            "text/html": [
              "<pre style=\"white-space:pre;overflow-x:auto;line-height:normal;font-family:Menlo,'DejaVu Sans Mono',consolas,'Courier New',monospace\"><span style=\"font-weight: bold\"> Trainable params: </span><span style=\"color: #00af00; text-decoration-color: #00af00\">25,081</span> (97.97 KB)\n",
              "</pre>\n"
            ],
            "text/plain": [
              "\u001b[1m Trainable params: \u001b[0m\u001b[38;5;34m25,081\u001b[0m (97.97 KB)\n"
            ]
          },
          "metadata": {},
          "output_type": "display_data"
        },
        {
          "data": {
            "text/html": [
              "<pre style=\"white-space:pre;overflow-x:auto;line-height:normal;font-family:Menlo,'DejaVu Sans Mono',consolas,'Courier New',monospace\"><span style=\"font-weight: bold\"> Non-trainable params: </span><span style=\"color: #00af00; text-decoration-color: #00af00\">56</span> (224.00 B)\n",
              "</pre>\n"
            ],
            "text/plain": [
              "\u001b[1m Non-trainable params: \u001b[0m\u001b[38;5;34m56\u001b[0m (224.00 B)\n"
            ]
          },
          "metadata": {},
          "output_type": "display_data"
        }
      ],
      "source": [
        "def create_model(hp):\n",
        "    # Input layer\n",
        "    inputs = layers.Input(shape=(FRAMES_PER_VIDEO, VIDEO_HEIGHT, VIDEO_WIDTH, N_CHANNELS))\n",
        "\n",
        "    # Add Gaussian Noise\n",
        "    x = layers.GaussianNoise(0.1)(inputs)\n",
        "\n",
        "    # Add Motion Blur\n",
        "    x = layers.TimeDistributed(MotionBlur(kernel_size=5))(x)\n",
        "\n",
        "    # Apply Frame Difference using the custom layer\n",
        "    x = FrameDifference()(x)\n",
        "\n",
        "    # ConvLSTM2D block 1\n",
        "    x = layers.ConvLSTM2D(\n",
        "        filters=4,\n",
        "        kernel_size=(3, 3),\n",
        "        padding='same',\n",
        "        return_sequences=True,\n",
        "        recurrent_dropout=hp.Float('recurrent_dropout_1', min_value=0.0, max_value=0.5, step=0.1),\n",
        "        kernel_regularizer=tf.keras.regularizers.l2(0.01),\n",
        "        data_format='channels_last'\n",
        "    )(x)\n",
        "    x = layers.BatchNormalization()(x)\n",
        "    x = layers.MaxPooling3D(pool_size=(1, 2, 2), padding='same', data_format='channels_last')(x)\n",
        "    x = layers.TimeDistributed(layers.Dropout(hp.Float('dropout_1', min_value=0.2, max_value=0.5, step=0.1)))(x)\n",
        "\n",
        "    # ConvLSTM2D block 2\n",
        "    x = layers.ConvLSTM2D(\n",
        "        filters=8,\n",
        "        kernel_size=(3, 3),\n",
        "        padding='same',\n",
        "        return_sequences=True,\n",
        "        recurrent_dropout=hp.Float('recurrent_dropout_2', min_value=0.0, max_value=0.5, step=0.1),\n",
        "        kernel_regularizer=tf.keras.regularizers.l2(0.01),\n",
        "        data_format='channels_last'\n",
        "    )(x)\n",
        "    x = layers.BatchNormalization()(x)\n",
        "    x = layers.MaxPooling3D(pool_size=(1, 2, 2), padding='same', data_format='channels_last')(x)\n",
        "    x = layers.TimeDistributed(layers.Dropout(hp.Float('dropout_2', min_value=0.2, max_value=0.5, step=0.1)))(x)\n",
        "\n",
        "    # ConvLSTM2D block 3\n",
        "    x = layers.ConvLSTM2D(\n",
        "        filters=16,\n",
        "        kernel_size=(3, 3),\n",
        "        padding='same',\n",
        "        return_sequences=False,\n",
        "        recurrent_dropout=hp.Float('recurrent_dropout_3', min_value=0.0, max_value=0.5, step=0.1),\n",
        "        kernel_regularizer=tf.keras.regularizers.l2(0.01),\n",
        "        data_format='channels_last'\n",
        "    )(x)\n",
        "    x = layers.BatchNormalization()(x)\n",
        "\n",
        "    # Depthwise Convolution\n",
        "    x = layers.DepthwiseConv2D(kernel_size=(3, 3), depth_multiplier=2, activation='relu', data_format='channels_last')(x)\n",
        "\n",
        "    # Global Average Pooling\n",
        "    x = layers.GlobalAveragePooling2D(data_format='channels_last')(x)\n",
        "\n",
        "    # Fully Connected Dense Layers\n",
        "    x = layers.Dense(units=128, activation='relu')(x)\n",
        "    x = layers.Dense(units=16, activation='relu')(x)\n",
        "\n",
        "    # Output layer\n",
        "    outputs = layers.Dense(units=1, activation='sigmoid')(x)\n",
        "\n",
        "    # Define and compile the model\n",
        "    model = tf.keras.Model(inputs=inputs, outputs=outputs)\n",
        "   \n",
        "    optimizer_choice = hp.Choice('optimizer', ['adam', 'adamw', 'rmsprop'])\n",
        "    learning_rate = hp.Float('learning_rate', min_value=1e-5, max_value=1e-3, sampling='log')\n",
        "\n",
        "    if optimizer_choice == 'adam':\n",
        "        optimizer = Adam(learning_rate=learning_rate)\n",
        "    elif optimizer_choice == 'adamw':\n",
        "        optimizer = AdamW(learning_rate=learning_rate)\n",
        "    else:\n",
        "        optimizer = RMSprop(learning_rate=learning_rate)\n",
        "   \n",
        "    model.compile(optimizer=optimizer, loss='binary_crossentropy', metrics=['accuracy'])\n",
        "\n",
        "    return model"
      ]
    },
    {
      "cell_type": "code",
      "execution_count": null,
      "metadata": {
        "id": "453SK42Nkded"
      },
      "outputs": [],
      "source": [
        "PROJECT_NAME = \"violence_detection\"\n",
        "EXPERIMENT_NAME = 'frame_diff_and_motion_blur_fine_tuning'\n",
        "PATH_TUNING = f\"/content/drive/MyDrive/Thesis/{EXPERIMENT_NAME}/tuning\"\n",
        "PATH_CHECKPOINT = f\"/content/drive/MyDrive/Thesis/{EXPERIMENT_NAME}/best_model_{EXPERIMENT_NAME}.keras\""
      ]
    },
    {
      "cell_type": "code",
      "execution_count": null,
      "metadata": {
        "execution": {
          "iopub.execute_input": "2024-10-15T05:20:13.823890Z",
          "iopub.status.busy": "2024-10-15T05:20:13.823494Z",
          "iopub.status.idle": "2024-10-15T05:20:13.829740Z",
          "shell.execute_reply": "2024-10-15T05:20:13.828625Z",
          "shell.execute_reply.started": "2024-10-15T05:20:13.823843Z"
        },
        "id": "I5s-3BzfFzBC",
        "trusted": true
      },
      "outputs": [],
      "source": [
        "# Add callbacks\n",
        "early_stopping = tf.keras.callbacks.EarlyStopping(monitor='val_accuracy', patience=10, restore_best_weights=True)\n",
        "lr_scheduler = tf.keras.callbacks.ReduceLROnPlateau(monitor='val_accuracy', factor=0.1, patience=3, min_lr=1e-6)\n",
        "cp_callback = tf.keras.callbacks.ModelCheckpoint(filepath=PATH_CHECKPOINT,\n",
        "                                                 save_best_only=True,\n",
        "                                                 monitor='val_accuracy',\n",
        "                                                 mode='max',\n",
        "                                                 verbose=1)"
      ]
    },
    {
      "cell_type": "code",
      "execution_count": null,
      "metadata": {},
      "outputs": [],
      "source": [
        "EPOCH = 40"
      ]
    },
    {
      "cell_type": "code",
      "execution_count": null,
      "metadata": {},
      "outputs": [],
      "source": [
        "import keras_tuner as kt\n",
        "\n",
        "# Instantiate the tuner\n",
        "tuner = kt.BayesianOptimization(\n",
        "    create_model,\n",
        "    objective='val_accuracy',\n",
        "    max_trials=20,\n",
        "    directory=PATH_TUNING,\n",
        "    project_name=PROJECT_NAME\n",
        ")\n",
        "\n",
        "# Run the search\n",
        "tuner.search(\n",
        "    train_generator,\n",
        "    epochs=EPOCH, validation_data=test_generator, batch_size=BATCH_SIZE, callbacks=[lr_scheduler, early_stopping])"
      ]
    },
    {
      "cell_type": "code",
      "execution_count": null,
      "metadata": {},
      "outputs": [],
      "source": [
        "best_hps = tuner.get_best_hyperparameters(num_trials=1)[0]\n",
        "\n",
        "print(f\"Best hyperparameters: {best_hps.values}\")"
      ]
    },
    {
      "cell_type": "code",
      "execution_count": null,
      "metadata": {
        "colab": {
          "base_uri": "https://localhost:8080/"
        },
        "execution": {
          "iopub.execute_input": "2024-10-15T05:20:13.831773Z",
          "iopub.status.busy": "2024-10-15T05:20:13.831200Z",
          "iopub.status.idle": "2024-10-15T09:49:49.833781Z",
          "shell.execute_reply": "2024-10-15T09:49:49.832870Z",
          "shell.execute_reply.started": "2024-10-15T05:20:13.831724Z"
        },
        "id": "uOd6vESwFzBD",
        "outputId": "b0fe4d89-dc35-48f9-a401-56887546a6e0",
        "trusted": true
      },
      "outputs": [
        {
          "name": "stdout",
          "output_type": "stream",
          "text": [
            "Epoch 1/30\n"
          ]
        },
        {
          "name": "stderr",
          "output_type": "stream",
          "text": [
            "/usr/local/lib/python3.10/dist-packages/keras/src/trainers/data_adapters/py_dataset_adapter.py:121: UserWarning: Your `PyDataset` class should call `super().__init__(**kwargs)` in its constructor. `**kwargs` can include `workers`, `use_multiprocessing`, `max_queue_size`. Do not pass these arguments to `fit()`, as they will be ignored.\n",
            "  self._warn_if_super_not_called()\n"
          ]
        },
        {
          "name": "stdout",
          "output_type": "stream",
          "text": [
            "\u001b[1m160/160\u001b[0m \u001b[32m━━━━━━━━━━━━━━━━━━━━\u001b[0m\u001b[37m\u001b[0m \u001b[1m0s\u001b[0m 3s/step - accuracy: 0.4579 - loss: 0.8537\n",
            "Epoch 1: val_accuracy improved from -inf to 0.41500, saving model to /content/drive/MyDrive/Thesis/frame_diff_and_motion_blur/best_model_frame_diff_and_motion_blur.keras\n",
            "\u001b[1m160/160\u001b[0m \u001b[32m━━━━━━━━━━━━━━━━━━━━\u001b[0m\u001b[37m\u001b[0m \u001b[1m690s\u001b[0m 4s/step - accuracy: 0.4581 - loss: 0.8533 - val_accuracy: 0.4150 - val_loss: 0.7278\n",
            "Epoch 2/30\n",
            "\u001b[1m160/160\u001b[0m \u001b[32m━━━━━━━━━━━━━━━━━━━━\u001b[0m\u001b[37m\u001b[0m \u001b[1m0s\u001b[0m 3s/step - accuracy: 0.6695 - loss: 0.6723\n",
            "Epoch 2: val_accuracy improved from 0.41500 to 0.72500, saving model to /content/drive/MyDrive/Thesis/frame_diff_and_motion_blur/best_model_frame_diff_and_motion_blur.keras\n",
            "\u001b[1m160/160\u001b[0m \u001b[32m━━━━━━━━━━━━━━━━━━━━\u001b[0m\u001b[37m\u001b[0m \u001b[1m591s\u001b[0m 4s/step - accuracy: 0.6697 - loss: 0.6721 - val_accuracy: 0.7250 - val_loss: 0.5531\n",
            "Epoch 3/30\n",
            "\u001b[1m160/160\u001b[0m \u001b[32m━━━━━━━━━━━━━━━━━━━━\u001b[0m\u001b[37m\u001b[0m \u001b[1m0s\u001b[0m 3s/step - accuracy: 0.7379 - loss: 0.5807\n",
            "Epoch 3: val_accuracy improved from 0.72500 to 0.76250, saving model to /content/drive/MyDrive/Thesis/frame_diff_and_motion_blur/best_model_frame_diff_and_motion_blur.keras\n",
            "\u001b[1m160/160\u001b[0m \u001b[32m━━━━━━━━━━━━━━━━━━━━\u001b[0m\u001b[37m\u001b[0m \u001b[1m623s\u001b[0m 4s/step - accuracy: 0.7380 - loss: 0.5807 - val_accuracy: 0.7625 - val_loss: 0.5227\n",
            "Epoch 4/30\n",
            "\u001b[1m160/160\u001b[0m \u001b[32m━━━━━━━━━━━━━━━━━━━━\u001b[0m\u001b[37m\u001b[0m \u001b[1m0s\u001b[0m 3s/step - accuracy: 0.7388 - loss: 0.5625\n",
            "Epoch 4: val_accuracy improved from 0.76250 to 0.77250, saving model to /content/drive/MyDrive/Thesis/frame_diff_and_motion_blur/best_model_frame_diff_and_motion_blur.keras\n",
            "\u001b[1m160/160\u001b[0m \u001b[32m━━━━━━━━━━━━━━━━━━━━\u001b[0m\u001b[37m\u001b[0m \u001b[1m619s\u001b[0m 4s/step - accuracy: 0.7388 - loss: 0.5625 - val_accuracy: 0.7725 - val_loss: 0.5059\n",
            "Epoch 5/30\n",
            "\u001b[1m160/160\u001b[0m \u001b[32m━━━━━━━━━━━━━━━━━━━━\u001b[0m\u001b[37m\u001b[0m \u001b[1m0s\u001b[0m 3s/step - accuracy: 0.7459 - loss: 0.5533\n",
            "Epoch 5: val_accuracy improved from 0.77250 to 0.79750, saving model to /content/drive/MyDrive/Thesis/frame_diff_and_motion_blur/best_model_frame_diff_and_motion_blur.keras\n",
            "\u001b[1m160/160\u001b[0m \u001b[32m━━━━━━━━━━━━━━━━━━━━\u001b[0m\u001b[37m\u001b[0m \u001b[1m586s\u001b[0m 4s/step - accuracy: 0.7459 - loss: 0.5533 - val_accuracy: 0.7975 - val_loss: 0.4778\n",
            "Epoch 6/30\n",
            "\u001b[1m160/160\u001b[0m \u001b[32m━━━━━━━━━━━━━━━━━━━━\u001b[0m\u001b[37m\u001b[0m \u001b[1m0s\u001b[0m 3s/step - accuracy: 0.7860 - loss: 0.5088\n",
            "Epoch 6: val_accuracy did not improve from 0.79750\n",
            "\u001b[1m160/160\u001b[0m \u001b[32m━━━━━━━━━━━━━━━━━━━━\u001b[0m\u001b[37m\u001b[0m \u001b[1m621s\u001b[0m 4s/step - accuracy: 0.7859 - loss: 0.5089 - val_accuracy: 0.7850 - val_loss: 0.5269\n",
            "Epoch 7/30\n",
            "\u001b[1m160/160\u001b[0m \u001b[32m━━━━━━━━━━━━━━━━━━━━\u001b[0m\u001b[37m\u001b[0m \u001b[1m0s\u001b[0m 3s/step - accuracy: 0.7629 - loss: 0.5405\n",
            "Epoch 7: val_accuracy did not improve from 0.79750\n",
            "\u001b[1m160/160\u001b[0m \u001b[32m━━━━━━━━━━━━━━━━━━━━\u001b[0m\u001b[37m\u001b[0m \u001b[1m583s\u001b[0m 4s/step - accuracy: 0.7629 - loss: 0.5404 - val_accuracy: 0.7750 - val_loss: 0.5248\n",
            "Epoch 8/30\n",
            "\u001b[1m160/160\u001b[0m \u001b[32m━━━━━━━━━━━━━━━━━━━━\u001b[0m\u001b[37m\u001b[0m \u001b[1m0s\u001b[0m 3s/step - accuracy: 0.7668 - loss: 0.5253\n",
            "Epoch 8: val_accuracy improved from 0.79750 to 0.81250, saving model to /content/drive/MyDrive/Thesis/frame_diff_and_motion_blur/best_model_frame_diff_and_motion_blur.keras\n",
            "\u001b[1m160/160\u001b[0m \u001b[32m━━━━━━━━━━━━━━━━━━━━\u001b[0m\u001b[37m\u001b[0m \u001b[1m605s\u001b[0m 4s/step - accuracy: 0.7667 - loss: 0.5253 - val_accuracy: 0.8125 - val_loss: 0.4700\n",
            "Epoch 9/30\n",
            "\u001b[1m160/160\u001b[0m \u001b[32m━━━━━━━━━━━━━━━━━━━━\u001b[0m\u001b[37m\u001b[0m \u001b[1m0s\u001b[0m 3s/step - accuracy: 0.7786 - loss: 0.4905\n",
            "Epoch 9: val_accuracy improved from 0.81250 to 0.82000, saving model to /content/drive/MyDrive/Thesis/frame_diff_and_motion_blur/best_model_frame_diff_and_motion_blur.keras\n",
            "\u001b[1m160/160\u001b[0m \u001b[32m━━━━━━━━━━━━━━━━━━━━\u001b[0m\u001b[37m\u001b[0m \u001b[1m587s\u001b[0m 4s/step - accuracy: 0.7786 - loss: 0.4906 - val_accuracy: 0.8200 - val_loss: 0.4760\n",
            "Epoch 10/30\n",
            "\u001b[1m160/160\u001b[0m \u001b[32m━━━━━━━━━━━━━━━━━━━━\u001b[0m\u001b[37m\u001b[0m \u001b[1m0s\u001b[0m 3s/step - accuracy: 0.8153 - loss: 0.4649\n",
            "Epoch 10: val_accuracy did not improve from 0.82000\n",
            "\u001b[1m160/160\u001b[0m \u001b[32m━━━━━━━━━━━━━━━━━━━━\u001b[0m\u001b[37m\u001b[0m \u001b[1m583s\u001b[0m 4s/step - accuracy: 0.8152 - loss: 0.4651 - val_accuracy: 0.7900 - val_loss: 0.4851\n",
            "Epoch 11/30\n",
            "\u001b[1m160/160\u001b[0m \u001b[32m━━━━━━━━━━━━━━━━━━━━\u001b[0m\u001b[37m\u001b[0m \u001b[1m0s\u001b[0m 3s/step - accuracy: 0.7780 - loss: 0.5146\n",
            "Epoch 11: val_accuracy did not improve from 0.82000\n",
            "\u001b[1m160/160\u001b[0m \u001b[32m━━━━━━━━━━━━━━━━━━━━\u001b[0m\u001b[37m\u001b[0m \u001b[1m625s\u001b[0m 4s/step - accuracy: 0.7780 - loss: 0.5144 - val_accuracy: 0.8025 - val_loss: 0.4527\n",
            "Epoch 12/30\n",
            "\u001b[1m160/160\u001b[0m \u001b[32m━━━━━━━━━━━━━━━━━━━━\u001b[0m\u001b[37m\u001b[0m \u001b[1m0s\u001b[0m 3s/step - accuracy: 0.8019 - loss: 0.4546\n",
            "Epoch 12: val_accuracy did not improve from 0.82000\n",
            "\u001b[1m160/160\u001b[0m \u001b[32m━━━━━━━━━━━━━━━━━━━━\u001b[0m\u001b[37m\u001b[0m \u001b[1m584s\u001b[0m 4s/step - accuracy: 0.8019 - loss: 0.4547 - val_accuracy: 0.8150 - val_loss: 0.4576\n",
            "Epoch 13/30\n",
            "\u001b[1m160/160\u001b[0m \u001b[32m━━━━━━━━━━━━━━━━━━━━\u001b[0m\u001b[37m\u001b[0m \u001b[1m0s\u001b[0m 3s/step - accuracy: 0.7729 - loss: 0.5051\n",
            "Epoch 13: val_accuracy did not improve from 0.82000\n",
            "\u001b[1m160/160\u001b[0m \u001b[32m━━━━━━━━━━━━━━━━━━━━\u001b[0m\u001b[37m\u001b[0m \u001b[1m586s\u001b[0m 4s/step - accuracy: 0.7727 - loss: 0.5053 - val_accuracy: 0.7800 - val_loss: 0.5548\n",
            "Epoch 14/30\n",
            "\u001b[1m160/160\u001b[0m \u001b[32m━━━━━━━━━━━━━━━━━━━━\u001b[0m\u001b[37m\u001b[0m \u001b[1m0s\u001b[0m 3s/step - accuracy: 0.7927 - loss: 0.5012\n",
            "Epoch 14: val_accuracy did not improve from 0.82000\n",
            "\u001b[1m160/160\u001b[0m \u001b[32m━━━━━━━━━━━━━━━━━━━━\u001b[0m\u001b[37m\u001b[0m \u001b[1m584s\u001b[0m 4s/step - accuracy: 0.7927 - loss: 0.5010 - val_accuracy: 0.8050 - val_loss: 0.5064\n",
            "Epoch 15/30\n",
            "\u001b[1m160/160\u001b[0m \u001b[32m━━━━━━━━━━━━━━━━━━━━\u001b[0m\u001b[37m\u001b[0m \u001b[1m0s\u001b[0m 3s/step - accuracy: 0.8247 - loss: 0.4424\n",
            "Epoch 15: val_accuracy did not improve from 0.82000\n",
            "\u001b[1m160/160\u001b[0m \u001b[32m━━━━━━━━━━━━━━━━━━━━\u001b[0m\u001b[37m\u001b[0m \u001b[1m586s\u001b[0m 4s/step - accuracy: 0.8245 - loss: 0.4426 - val_accuracy: 0.8200 - val_loss: 0.4493\n",
            "Epoch 16/30\n",
            "\u001b[1m160/160\u001b[0m \u001b[32m━━━━━━━━━━━━━━━━━━━━\u001b[0m\u001b[37m\u001b[0m \u001b[1m0s\u001b[0m 3s/step - accuracy: 0.8236 - loss: 0.4487\n",
            "Epoch 16: val_accuracy did not improve from 0.82000\n",
            "\u001b[1m160/160\u001b[0m \u001b[32m━━━━━━━━━━━━━━━━━━━━\u001b[0m\u001b[37m\u001b[0m \u001b[1m583s\u001b[0m 4s/step - accuracy: 0.8236 - loss: 0.4487 - val_accuracy: 0.8050 - val_loss: 0.4737\n",
            "Epoch 17/30\n",
            "\u001b[1m160/160\u001b[0m \u001b[32m━━━━━━━━━━━━━━━━━━━━\u001b[0m\u001b[37m\u001b[0m \u001b[1m0s\u001b[0m 3s/step - accuracy: 0.8162 - loss: 0.4399\n",
            "Epoch 17: val_accuracy did not improve from 0.82000\n",
            "\u001b[1m160/160\u001b[0m \u001b[32m━━━━━━━━━━━━━━━━━━━━\u001b[0m\u001b[37m\u001b[0m \u001b[1m586s\u001b[0m 4s/step - accuracy: 0.8161 - loss: 0.4400 - val_accuracy: 0.7925 - val_loss: 0.5321\n",
            "Epoch 18/30\n",
            "\u001b[1m160/160\u001b[0m \u001b[32m━━━━━━━━━━━━━━━━━━━━\u001b[0m\u001b[37m\u001b[0m \u001b[1m0s\u001b[0m 3s/step - accuracy: 0.8372 - loss: 0.4229\n",
            "Epoch 18: val_accuracy improved from 0.82000 to 0.82500, saving model to /content/drive/MyDrive/Thesis/frame_diff_and_motion_blur/best_model_frame_diff_and_motion_blur.keras\n",
            "\u001b[1m160/160\u001b[0m \u001b[32m━━━━━━━━━━━━━━━━━━━━\u001b[0m\u001b[37m\u001b[0m \u001b[1m583s\u001b[0m 4s/step - accuracy: 0.8371 - loss: 0.4231 - val_accuracy: 0.8250 - val_loss: 0.4542\n",
            "Epoch 19/30\n",
            "\u001b[1m160/160\u001b[0m \u001b[32m━━━━━━━━━━━━━━━━━━━━\u001b[0m\u001b[37m\u001b[0m \u001b[1m0s\u001b[0m 3s/step - accuracy: 0.8322 - loss: 0.4299\n",
            "Epoch 19: val_accuracy did not improve from 0.82500\n",
            "\u001b[1m160/160\u001b[0m \u001b[32m━━━━━━━━━━━━━━━━━━━━\u001b[0m\u001b[37m\u001b[0m \u001b[1m588s\u001b[0m 4s/step - accuracy: 0.8320 - loss: 0.4300 - val_accuracy: 0.8175 - val_loss: 0.4456\n",
            "Epoch 20/30\n",
            "\u001b[1m160/160\u001b[0m \u001b[32m━━━━━━━━━━━━━━━━━━━━\u001b[0m\u001b[37m\u001b[0m \u001b[1m0s\u001b[0m 3s/step - accuracy: 0.8031 - loss: 0.4695\n",
            "Epoch 20: val_accuracy did not improve from 0.82500\n",
            "\u001b[1m160/160\u001b[0m \u001b[32m━━━━━━━━━━━━━━━━━━━━\u001b[0m\u001b[37m\u001b[0m \u001b[1m617s\u001b[0m 4s/step - accuracy: 0.8032 - loss: 0.4694 - val_accuracy: 0.7825 - val_loss: 0.5457\n",
            "Epoch 21/30\n",
            "\u001b[1m160/160\u001b[0m \u001b[32m━━━━━━━━━━━━━━━━━━━━\u001b[0m\u001b[37m\u001b[0m \u001b[1m0s\u001b[0m 3s/step - accuracy: 0.8253 - loss: 0.4382\n",
            "Epoch 21: val_accuracy improved from 0.82500 to 0.84500, saving model to /content/drive/MyDrive/Thesis/frame_diff_and_motion_blur/best_model_frame_diff_and_motion_blur.keras\n",
            "\u001b[1m160/160\u001b[0m \u001b[32m━━━━━━━━━━━━━━━━━━━━\u001b[0m\u001b[37m\u001b[0m \u001b[1m586s\u001b[0m 4s/step - accuracy: 0.8253 - loss: 0.4381 - val_accuracy: 0.8450 - val_loss: 0.4432\n",
            "Epoch 22/30\n",
            "\u001b[1m160/160\u001b[0m \u001b[32m━━━━━━━━━━━━━━━━━━━━\u001b[0m\u001b[37m\u001b[0m \u001b[1m0s\u001b[0m 3s/step - accuracy: 0.8219 - loss: 0.4312\n",
            "Epoch 22: val_accuracy did not improve from 0.84500\n",
            "\u001b[1m160/160\u001b[0m \u001b[32m━━━━━━━━━━━━━━━━━━━━\u001b[0m\u001b[37m\u001b[0m \u001b[1m586s\u001b[0m 4s/step - accuracy: 0.8219 - loss: 0.4312 - val_accuracy: 0.7950 - val_loss: 0.5558\n",
            "Epoch 23/30\n",
            "\u001b[1m160/160\u001b[0m \u001b[32m━━━━━━━━━━━━━━━━━━━━\u001b[0m\u001b[37m\u001b[0m \u001b[1m0s\u001b[0m 3s/step - accuracy: 0.8133 - loss: 0.4286\n",
            "Epoch 23: val_accuracy did not improve from 0.84500\n",
            "\u001b[1m160/160\u001b[0m \u001b[32m━━━━━━━━━━━━━━━━━━━━\u001b[0m\u001b[37m\u001b[0m \u001b[1m621s\u001b[0m 4s/step - accuracy: 0.8133 - loss: 0.4286 - val_accuracy: 0.7950 - val_loss: 0.5774\n",
            "Epoch 24/30\n",
            "\u001b[1m160/160\u001b[0m \u001b[32m━━━━━━━━━━━━━━━━━━━━\u001b[0m\u001b[37m\u001b[0m \u001b[1m0s\u001b[0m 3s/step - accuracy: 0.8329 - loss: 0.4196\n",
            "Epoch 24: val_accuracy did not improve from 0.84500\n",
            "\u001b[1m160/160\u001b[0m \u001b[32m━━━━━━━━━━━━━━━━━━━━\u001b[0m\u001b[37m\u001b[0m \u001b[1m621s\u001b[0m 4s/step - accuracy: 0.8330 - loss: 0.4196 - val_accuracy: 0.7750 - val_loss: 0.5724\n",
            "Epoch 25/30\n",
            "\u001b[1m160/160\u001b[0m \u001b[32m━━━━━━━━━━━━━━━━━━━━\u001b[0m\u001b[37m\u001b[0m \u001b[1m0s\u001b[0m 3s/step - accuracy: 0.8245 - loss: 0.4459\n",
            "Epoch 25: val_accuracy did not improve from 0.84500\n",
            "\u001b[1m160/160\u001b[0m \u001b[32m━━━━━━━━━━━━━━━━━━━━\u001b[0m\u001b[37m\u001b[0m \u001b[1m587s\u001b[0m 4s/step - accuracy: 0.8245 - loss: 0.4458 - val_accuracy: 0.7975 - val_loss: 0.5286\n",
            "Epoch 26/30\n",
            "\u001b[1m160/160\u001b[0m \u001b[32m━━━━━━━━━━━━━━━━━━━━\u001b[0m\u001b[37m\u001b[0m \u001b[1m0s\u001b[0m 3s/step - accuracy: 0.8468 - loss: 0.4043\n",
            "Epoch 26: val_accuracy did not improve from 0.84500\n",
            "\u001b[1m160/160\u001b[0m \u001b[32m━━━━━━━━━━━━━━━━━━━━\u001b[0m\u001b[37m\u001b[0m \u001b[1m619s\u001b[0m 4s/step - accuracy: 0.8467 - loss: 0.4045 - val_accuracy: 0.7775 - val_loss: 0.4878\n",
            "Epoch 27/30\n",
            "\u001b[1m160/160\u001b[0m \u001b[32m━━━━━━━━━━━━━━━━━━━━\u001b[0m\u001b[37m\u001b[0m \u001b[1m0s\u001b[0m 3s/step - accuracy: 0.8367 - loss: 0.4106\n",
            "Epoch 27: val_accuracy did not improve from 0.84500\n",
            "\u001b[1m160/160\u001b[0m \u001b[32m━━━━━━━━━━━━━━━━━━━━\u001b[0m\u001b[37m\u001b[0m \u001b[1m583s\u001b[0m 4s/step - accuracy: 0.8366 - loss: 0.4107 - val_accuracy: 0.7275 - val_loss: 0.5845\n",
            "Epoch 28/30\n",
            "\u001b[1m160/160\u001b[0m \u001b[32m━━━━━━━━━━━━━━━━━━━━\u001b[0m\u001b[37m\u001b[0m \u001b[1m0s\u001b[0m 3s/step - accuracy: 0.8239 - loss: 0.4300\n",
            "Epoch 28: val_accuracy did not improve from 0.84500\n",
            "\u001b[1m160/160\u001b[0m \u001b[32m━━━━━━━━━━━━━━━━━━━━\u001b[0m\u001b[37m\u001b[0m \u001b[1m621s\u001b[0m 4s/step - accuracy: 0.8239 - loss: 0.4300 - val_accuracy: 0.8025 - val_loss: 0.4795\n",
            "Epoch 29/30\n",
            "\u001b[1m160/160\u001b[0m \u001b[32m━━━━━━━━━━━━━━━━━━━━\u001b[0m\u001b[37m\u001b[0m \u001b[1m0s\u001b[0m 3s/step - accuracy: 0.8278 - loss: 0.4102\n",
            "Epoch 29: val_accuracy did not improve from 0.84500\n",
            "\u001b[1m160/160\u001b[0m \u001b[32m━━━━━━━━━━━━━━━━━━━━\u001b[0m\u001b[37m\u001b[0m \u001b[1m604s\u001b[0m 4s/step - accuracy: 0.8278 - loss: 0.4102 - val_accuracy: 0.8250 - val_loss: 0.4857\n",
            "Epoch 30/30\n",
            "\u001b[1m160/160\u001b[0m \u001b[32m━━━━━━━━━━━━━━━━━━━━\u001b[0m\u001b[37m\u001b[0m \u001b[1m0s\u001b[0m 3s/step - accuracy: 0.8349 - loss: 0.4094\n",
            "Epoch 30: val_accuracy did not improve from 0.84500\n",
            "\u001b[1m160/160\u001b[0m \u001b[32m━━━━━━━━━━━━━━━━━━━━\u001b[0m\u001b[37m\u001b[0m \u001b[1m584s\u001b[0m 4s/step - accuracy: 0.8349 - loss: 0.4094 - val_accuracy: 0.8000 - val_loss: 0.4983\n"
          ]
        }
      ],
      "source": [
        "# train the model\n",
        "best_model = tuner.hypermodel.build(best_hps)\n",
        "\n",
        "train_hist = best_model.fit(train_generator, validation_data=test_generator, epochs=EPOCH, batch_size = BATCH_SIZE, callbacks=[lr_scheduler, cp_callback, early_stopping])"
      ]
    },
    {
      "cell_type": "code",
      "execution_count": null,
      "metadata": {
        "colab": {
          "base_uri": "https://localhost:8080/",
          "height": 387
        },
        "execution": {
          "iopub.execute_input": "2024-10-15T09:49:49.835431Z",
          "iopub.status.busy": "2024-10-15T09:49:49.835074Z",
          "iopub.status.idle": "2024-10-15T09:49:50.363579Z",
          "shell.execute_reply": "2024-10-15T09:49:50.362639Z",
          "shell.execute_reply.started": "2024-10-15T09:49:49.835393Z"
        },
        "id": "BgeQuSwTFzBD",
        "outputId": "66fbe6b1-32f0-474f-b8a4-5876901d98f7",
        "trusted": true
      },
      "outputs": [
        {
          "data": {
            "image/png": "[encoded data removed]",
            "text/plain": [
              "<Figure size 1000x500 with 2 Axes>"
            ]
          },
          "metadata": {},
          "output_type": "display_data"
        }
      ],
      "source": [
        "plot_training_history(train_hist)"
      ]
    },
    {
      "cell_type": "markdown",
      "metadata": {
        "id": "TQmlwh7-jzbF"
      },
      "source": [
        "# Evaluate"
      ]
    },
    {
      "cell_type": "code",
      "execution_count": null,
      "metadata": {
        "colab": {
          "base_uri": "https://localhost:8080/"
        },
        "execution": {
          "iopub.execute_input": "2024-10-15T09:49:50.365558Z",
          "iopub.status.busy": "2024-10-15T09:49:50.365133Z",
          "iopub.status.idle": "2024-10-15T09:49:50.371542Z",
          "shell.execute_reply": "2024-10-15T09:49:50.370479Z",
          "shell.execute_reply.started": "2024-10-15T09:49:50.365512Z"
        },
        "id": "O9sWrfsFFzBD",
        "outputId": "a072bb1e-5506-4ee4-9c4d-7b4fca0fc963",
        "trusted": true
      },
      "outputs": [
        {
          "name": "stdout",
          "output_type": "stream",
          "text": [
            "max val accuracy: 84.5000\n"
          ]
        }
      ],
      "source": [
        "max_val_acc = max(train_hist.history['val_accuracy'])\n",
        "\n",
        "print(f\"max val accuracy: {(max_val_acc * 100):.4f}\")"
      ]
    },
    {
      "cell_type": "code",
      "execution_count": null,
      "metadata": {
        "id": "xUlbijlTlldT"
      },
      "outputs": [],
      "source": [
        "model_eval = tf.keras.models.load_model(PATH_CHECKPOINT)"
      ]
    },
    {
      "cell_type": "code",
      "execution_count": null,
      "metadata": {
        "colab": {
          "base_uri": "https://localhost:8080/"
        },
        "id": "l8ZC-gjZj2LO",
        "outputId": "cf631474-beb5-4991-c334-b315a27858e2"
      },
      "outputs": [
        {
          "name": "stdout",
          "output_type": "stream",
          "text": [
            "Test Accuracy: 0.800\n",
            "Test Loss: 0.498\n"
          ]
        }
      ],
      "source": [
        "test_loss, test_acc = model_eval.evaluate(test_generator, verbose=0)\n",
        "\n",
        "print(f\"Test Accuracy: {test_acc:.3f}\")\n",
        "print(f\"Test Loss: {test_loss:.3f}\")"
      ]
    }
  ],
  "metadata": {
    "accelerator": "GPU",
    "colab": {
      "gpuType": "T4",
      "provenance": [],
      "toc_visible": true
    },
    "kaggle": {
      "accelerator": "gpu",
      "dataSources": [
        {
          "datasetId": 2730182,
          "sourceId": 4718786,
          "sourceType": "datasetVersion"
        }
      ],
      "dockerImageVersionId": 30776,
      "isGpuEnabled": true,
      "isInternetEnabled": true,
      "language": "python",
      "sourceType": "notebook"
    },
    "kernelspec": {
      "display_name": "tf",
      "language": "python",
      "name": "python3"
    },
    "language_info": {
      "codemirror_mode": {
        "name": "ipython",
        "version": 3
      },
      "file_extension": ".py",
      "mimetype": "text/x-python",
      "name": "python",
      "nbconvert_exporter": "python",
      "pygments_lexer": "ipython3",
      "version": "3.11.9"
    }
  },
  "nbformat": 4,
  "nbformat_minor": 0
}
